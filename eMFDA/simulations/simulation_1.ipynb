{
 "cells": [
  {
   "cell_type": "code",
   "execution_count": null,
   "metadata": {},
   "outputs": [
    {
     "ename": "",
     "evalue": "",
     "output_type": "error",
     "traceback": [
      "\u001b[1;31mFailed to start the Kernel. \n",
      "\u001b[1;31mActivating extension 'ms-python.python' failed: TelemetrySender.sendEventData must be a function. \n",
      "\u001b[1;31mView Jupyter <a href='command:jupyter.viewOutput'>log</a> for further details."
     ]
    }
   ],
   "source": [
    "import numpy as np \n",
    "import tensorly as tl\n",
    "import sys\n",
    "sys.path.append(\"../mfda/\")\n",
    "from tensor_decomposition import MARGARITA\n",
    "from marginal_product_basis import MPB\n",
    "from utility import FPCA \n",
    "from skfda.preprocessing.smoothing import BasisSmoother\n",
    "from skfda.representation.basis import BSpline, Tensor\n",
    "from skfda.misc.operators import LinearDifferentialOperator, gram_matrix\n",
    "from skfda.preprocessing.smoothing import BasisSmoother\n",
    "from skfda import FDataGrid\n",
    "\n",
    "from sklearn.metrics import r2_score, mean_squared_error\n",
    "from collections import namedtuple \n",
    "import time \n",
    "import os \n",
    "import itertools \n",
    "import pickle \n",
    "import scipy \n",
    "from scipy.stats import ortho_group, sem\n",
    "import pandas as pd \n",
    "import functools \n",
    "import operator \n",
    "\n",
    "import matplotlib.pyplot as plt\n",
    "from matplotlib import cm\n",
    "import seaborn as sns\n",
    "\n",
    "svdtuple = namedtuple(\"SVD\", [\"U\", \"s\", \"Vt\"])\n",
    "DATA_DIR = \"data\"\n",
    "\n",
    "%load_ext autoreload\n",
    "%autoreload 2"
   ]
  },
  {
   "cell_type": "markdown",
   "metadata": {},
   "source": [
    "Define utility functions."
   ]
  },
  {
   "cell_type": "code",
   "execution_count": null,
   "metadata": {},
   "outputs": [
    {
     "ename": "",
     "evalue": "",
     "output_type": "error",
     "traceback": [
      "\u001b[1;31mFailed to start the Kernel. \n",
      "\u001b[1;31mActivating extension 'ms-python.python' failed: TelemetrySender.sendEventData must be a function. \n",
      "\u001b[1;31mView Jupyter <a href='command:jupyter.viewOutput'>log</a> for further details."
     ]
    }
   ],
   "source": [
    "## Wrapper function for K-oMPB estimation using MARGARITA [1]\n",
    "def kompb(Y, K):\n",
    "    ## Compute basis evaluation matrices and SVDs\n",
    "    Svds = [svdtuple(*np.linalg.svd(Phis[d], full_matrices=False)) for d in range(nmode)]\n",
    "    ## Specify differential operator for penalization \n",
    "    D2 = LinearDifferentialOperator(2)\n",
    "    Rlst = [gram_matrix(D2, bspline_basis[d]) for d in range(nmode)] \n",
    "    ## Perform the n-mode coordinate transformations into the spline coefficient space \n",
    "    ## Y_Bar should be close to zero so no need to center \n",
    "    G = tl.tenalg.multi_mode_dot(Y, [svdt.U.T for svdt in Svds], list(range(nmode)))\n",
    "    ## Estimation MPB\n",
    "    maxiter = (200, 100)\n",
    "    tol_inner = (1e-3, 1e-3)\n",
    "    tol_outer = 1e-3\n",
    "    initialize = \"random\"\n",
    "    Vs = [Svds[d].Vt.T for d in range(nmode)]\n",
    "    Dinvs = [np.diag(1./Svds[d].s) for d in range(nmode)]\n",
    "    Tlst_bcd = [Dinvs[d]@Vs[d].T@Rlst[d]@Vs[d]@Dinvs[d] for d in range(nmode)]\n",
    "    pen_params = (1e-10, 1e-10, 1e-10) ## no noise in simulation so regularization can be mild \n",
    "    start = time.time()\n",
    "    Ctilde, Smat, scalars, FLAG_C, FLAG_N = MARGARITA(G, Tlst_bcd, pen_params, K, \n",
    "                                     max_iter=maxiter, tol_inner=tol_inner, \n",
    "                                     tol_outer=tol_outer,  regularization=\"l2\", init=initialize, \n",
    "                                    verbose=False)\n",
    "    elapsed = time.time() - start\n",
    "    Clst = [Svds[d].Vt.T @ np.diag(1/Svds[d].s) @ Ctilde[d] for d in range(nmode)] \n",
    "    Smat_scaled = np.multiply(Smat, scalars)\n",
    "    Zeta_tensor = np.zeros((K,n1,n2))\n",
    "    for k in range(K):\n",
    "        Zeta_tensor[k,:,:] = (Phis[0] @ Clst[0][:,k]).reshape(-1,1) @ (Phis[1] @ Clst[1][:,k]).reshape(-1,1).T\n",
    "    return Zeta_tensor, Clst, Smat_scaled \n",
    "\n",
    "## Wrapper function for two stage FPCA from [1]\n",
    "def two_stage_fpca(Zeta_tensor, Clst, Smat_scaled, K):\n",
    "    mpb = MPB(bspline_basis, Clst)\n",
    "    ## Perform FPCA \n",
    "    J = mpb.gram_matrix()\n",
    "    R = mpb.roughness_matrix()\n",
    "    B, gamma = FPCA(Smat_scaled, J, R, lam=1e-10)\n",
    "    Eta_tensor = tl.tenalg.mode_dot(Zeta_tensor, B.T, 0)\n",
    "    return Eta_tensor\n",
    "    \n",
    "## Implementation of marginal product FPCA from [2]\n",
    "def marginal_product_fpca(Y, K):\n",
    "    ## Step 1: Obtain pre-smoothed estimates \n",
    "    N = Y.shape[-1]\n",
    "    tpb_smoother = BasisSmoother(tp_basis, return_basis=True)\n",
    "    fd = FDataGrid(np.moveaxis(Y, [0, 1, 2], [1, 2, 0]), xgrids)\n",
    "    fd_smooth = tpb_smoother.fit_transform(fd)\n",
    "    Coefs_hat = fd_smooth.coefficients.reshape(N, m1, m2) ## hopefully this is the correct reshaping \n",
    "\n",
    "    fd_mu = FDataGrid(np.mean(Y, axis=2).reshape(1, n1,n2), xgrids)\n",
    "    fd_smooth_mu = tpb_smoother.fit_transform(fd_mu)\n",
    "    coefs_mu = fd_smooth_mu.coefficients.ravel().reshape(m1, m2)\n",
    "\n",
    "    ## Step 2: Compute both marginal covariances \n",
    "    Jlst = [bsp1.gram_matrix(), bsp2.gram_matrix()]\n",
    "    G_x1 = np.zeros((m1,m1))\n",
    "    G_x2 = np.zeros((m2, m2))\n",
    "\n",
    "    for n in range(N):\n",
    "        G_x1 = G_x1 + Coefs_hat[n,:,:] @ Jlst[1] @ Coefs_hat[n,:,:].T\n",
    "        G_x2 = G_x2 + Coefs_hat[n,:,:].T @ Jlst[0] @  Coefs_hat[n,:,:]\n",
    "\n",
    "    G_x1 = G_x1/N\n",
    "    G_x2 = G_x2/N\n",
    "\n",
    "    ## Step 3: Perform FPCA using standard methods \n",
    "    Eigenlst = [np.linalg.eig(Jlst[0]), np.linalg.eig(Jlst[1])]\n",
    "    Jsqrt_lst = [Eigenlst[0][1] @ np.diag(np.sqrt(Eigenlst[0][0])) @ Eigenlst[0][1].T, \n",
    "                 Eigenlst[1][1] @ np.diag(np.sqrt(Eigenlst[1][0])) @ Eigenlst[1][1].T]\n",
    "    Jinvsqrt_lst = [Eigenlst[0][1] @ np.diag(1/np.sqrt(Eigenlst[0][0])) @ Eigenlst[0][1].T, \n",
    "                 Eigenlst[1][1] @ np.diag(1/np.sqrt(Eigenlst[1][0])) @ Eigenlst[1][1].T]\n",
    "\n",
    "    fpca_x1 = np.linalg.eig(Jsqrt_lst[0] @ G_x1 @ Jsqrt_lst[0])\n",
    "    fpca_x2 =  np.linalg.eig(Jsqrt_lst[1] @ G_x2 @ Jsqrt_lst[1])\n",
    "\n",
    "    eige_coefs_x1 = Jinvsqrt_lst[0] @ fpca_x1[1]\n",
    "    eige_coefs_x2 = Jinvsqrt_lst[1] @ fpca_x2[1]\n",
    "\n",
    "    eigenvalues = fpca_x1[0].reshape(-1,1) @ fpca_x2[0].reshape(1,-1)\n",
    "    eigenvalues_orderd = -np.sort(-eigenvalues.ravel())\n",
    "    ordering = []\n",
    "    for ev in eigenvalues_orderd:\n",
    "        xo, yo = np.where(eigenvalues == ev)\n",
    "        ordering.append((xo[0],yo[0]))\n",
    "\n",
    "    ## Step 4: Create regression matrix \n",
    "    MFPCA_tensor = np.zeros((K,n1,n2))\n",
    "    for k in range(K):\n",
    "        k1, k2 = ordering[k]\n",
    "        MFPCA_tensor[k, :, :] = (Phis[0] @ eige_coefs_x1[:,k1].reshape(-1,1)) @ (Phis[1] @ eige_coefs_x2[:,k2].reshape(-1,1)).T\n",
    "        \n",
    "    return MFPCA_tensor\n",
    "\n",
    "def non_separable_bias(Coefs, lambdas, Clst):\n",
    "    K = Clst[0].shape[1]\n",
    "    Jlst = [bsp1.gram_matrix(), bsp2.gram_matrix()]\n",
    "    JC0 = Jlst[0] @ Clst[0]\n",
    "    JC1 = Clst[1].T @ Jlst[1]\n",
    "    V = np.block([np.kron(JC1[kk,:].reshape(1,-1).T, JC0[:,kk].reshape(-1,1)) for kk in range(K)])\n",
    "    NSB = 0 \n",
    "    for k in range(K):\n",
    "        rho_k = lambdas[k]\n",
    "        A_k = Coefs[k,].reshape(m1, m2)\n",
    "        JAJ_k = Jlst[0] @ A_k @ Jlst[1]\n",
    "        a_k = JAJ_k.reshape((-1, 1), order=\"F\") ## stacking columns \n",
    "        b_k, res, rank, s = np.linalg.lstsq(V, a_k, rcond=None)\n",
    "        Diff = A_k - Clst[0] @ np.diag(b_k.ravel()) @ Clst[1].T\n",
    "        NSB += rho_k*(np.linalg.norm(Jlst[0] @ Diff @ Jlst[1], ord=\"fro\")**2)\n",
    "    return NSB"
   ]
  },
  {
   "cell_type": "markdown",
   "metadata": {},
   "source": [
    "# Construct Random Functions"
   ]
  },
  {
   "cell_type": "code",
   "execution_count": null,
   "metadata": {},
   "outputs": [
    {
     "ename": "",
     "evalue": "",
     "output_type": "error",
     "traceback": [
      "\u001b[1;31mFailed to start the Kernel. \n",
      "\u001b[1;31mActivating extension 'ms-python.python' failed: TelemetrySender.sendEventData must be a function. \n",
      "\u001b[1;31mView Jupyter <a href='command:jupyter.viewOutput'>log</a> for further details."
     ]
    }
   ],
   "source": [
    "np.random.seed(15) ## make exactly reproducible \n",
    "\n",
    "n1 = 100\n",
    "n2 = 100\n",
    "m1 = 10\n",
    "m2 = 8\n",
    "bsp1 = BSpline(n_basis=m1, order=4)\n",
    "bsp2 = BSpline(n_basis=m2, order=4)\n",
    "\n",
    "## Global parameters \n",
    "nmode = 2\n",
    "bspline_basis = [bsp1, bsp2] ## use true marginal basis systems for all fitting methods \n",
    "xgrids = [np.linspace(0,1,n1),\n",
    "         np.linspace(0,1,n2)]\n",
    "Phis = [np.squeeze(bspline_basis[d].evaluate(xgrids[d])).T for d in range(nmode)]\n",
    "\n",
    "X = np.array(list(itertools.product(*xgrids)))\n",
    "tp_basis = Tensor([bsp1, bsp2])\n",
    "J_tp = tp_basis.gram_matrix()\n",
    "\n",
    "Phi = np.squeeze(tp_basis.evaluate(X)).T\n",
    "\n",
    "lambdas = np.exp(-0.5*np.arange(m1*m2)) #exponential decay model for eigenfunctions \n",
    "\n",
    "s_tp, P_tp = np.linalg.eigh(J_tp)\n",
    "Coefs = np.diag(np.sqrt(1./s_tp))@P_tp.T \n",
    "\n",
    "Q = ortho_group.rvs(m1*m2)\n",
    "Coefs = Q@Coefs\n",
    "\n",
    "Psi_tensor = np.zeros((m1*m2,n1,n2))\n",
    "for k in range(m1*m2):\n",
    "    Psi_tensor[k,:,:] = (Phi @ Coefs[k,:]).reshape(n1,n2)"
   ]
  },
  {
   "cell_type": "markdown",
   "metadata": {},
   "source": [
    "# Estimation"
   ]
  },
  {
   "cell_type": "markdown",
   "metadata": {},
   "source": [
    "Estimate the MSE on an independent random test set for several ranks using all methods."
   ]
  },
  {
   "cell_type": "code",
   "execution_count": null,
   "metadata": {},
   "outputs": [
    {
     "ename": "",
     "evalue": "",
     "output_type": "error",
     "traceback": [
      "\u001b[1;31mFailed to start the Kernel. \n",
      "\u001b[1;31mActivating extension 'ms-python.python' failed: TelemetrySender.sendEventData must be a function. \n",
      "\u001b[1;31mView Jupyter <a href='command:jupyter.viewOutput'>log</a> for further details."
     ]
    }
   ],
   "source": [
    "Ranks = [3, 5, 10, 15, 20, 30]\n",
    "Ns = [5, 10, 15, 20, 50, 100]\n",
    "Ntest = 50; Nreps = 25\n",
    "MSEs = np.zeros((len(Ns), len(Ranks), Nreps, 3))\n",
    "\n",
    "for ni, Ntrain in enumerate(Ns):\n",
    "    for ki, k in enumerate(Ranks):\n",
    "        for rep in range(Nreps):\n",
    "            Y = np.zeros((n1,n2,Ntrain+Ntest))\n",
    "            Psi_coefs = np.random.multivariate_normal(np.zeros(m1*m2), np.diag(lambdas), size=Ntrain+Ntest)\n",
    "            for i in range(Ntrain+Ntest): \n",
    "                Y[:,:,i] = functools.reduce(operator.add,map(lambda k: Psi_coefs[i,k]*Psi_tensor[k,:,:], np.arange(m1*m2)))\n",
    "            Y_train_N = Y[:,:,0:Ntrain]\n",
    "            Y_test = Y[:,:,Ntrain:]\n",
    "\n",
    "            Zeta_tensor, Clst, Smat_scaled = kompb(Y_train_N, k)\n",
    "            MFPCA_tensor = marginal_product_fpca(Y_train_N, k)\n",
    "\n",
    "            Zeta_k = tl.base.unfold(Zeta_tensor[0:k,:,:], 0).T\n",
    "            Zeta_cmapper_k = np.linalg.inv(Zeta_k.T @ Zeta_k)@ Zeta_k.T \n",
    "\n",
    "            MFPCA_k = tl.base.unfold(MFPCA_tensor[0:k,:,:], 0).T\n",
    "            MFPCA_cmapper_k = np.linalg.inv(MFPCA_k.T @ MFPCA_k)@ MFPCA_k.T \n",
    "\n",
    "            Psi_k = tl.base.unfold(Psi_tensor[0:k,:,:], 0).T\n",
    "            Psi_cmapper_k = np.linalg.inv(Psi_k.T @ Psi_k)@ Psi_k.T \n",
    "            \n",
    "            MSE_ni_ki_nrep = np.zeros((Ntest,3))\n",
    "            for n in range(Ntest):\n",
    "                y_n = tl.base.tensor_to_vec(Y_test[:,:,n])\n",
    "\n",
    "                coefs_zeta_n = Zeta_cmapper_k @ y_n\n",
    "                coefs_mfpca_n = MFPCA_cmapper_k @ y_n\n",
    "                coefs_psi_n = Psi_cmapper_k @ y_n\n",
    "\n",
    "                Yhat_zeta_n = tl.tenalg.mode_dot(Zeta_tensor[0:k,:,:], coefs_zeta_n, 0)\n",
    "                Yhat_mfpca_n = tl.tenalg.mode_dot(MFPCA_tensor[0:k,:,:], coefs_mfpca_n, 0)\n",
    "                Yhat_psi_n = tl.tenalg.mode_dot(Psi_tensor[0:k,:,:], coefs_psi_n, 0)\n",
    "\n",
    "                MSE_ni_ki_nrep[n,0] = np.sum(np.power(Y_test[:,:,n] - Yhat_zeta_n, 2))/(n1*n2)\n",
    "                MSE_ni_ki_nrep[n,1] = np.sum(np.power(Y_test[:,:,n] - Yhat_mfpca_n, 2))/(n1*n2)\n",
    "                MSE_ni_ki_nrep[n,2] = np.sum(np.power(Y_test[:,:,n] - Yhat_psi_n, 2))/(n1*n2)\n",
    "                #MSE_ni_ki_nrep[n,0] = mean_squared_error(Y_test[:,:,n], Yhat_zeta_n)\n",
    "                #MSE_ni_ki_nrep[n,1] = mean_squared_error(Y_test[:,:,n], Yhat_mfpca_n)\n",
    "                #MSE_ni_ki_nrep[n,2] = mean_squared_error(Y_test[:,:,n], Yhat_psi_n)\n",
    "            \n",
    "            MSEs[ni, ki, rep, :] = np.mean(MSE_ni_ki_nrep, 0)\n",
    "            \n",
    "        print(\"Finished rank: %s\"%k)\n",
    "    print(\"Finished training sample size: %s\"%Ntrain)"
   ]
  },
  {
   "cell_type": "markdown",
   "metadata": {},
   "source": [
    "Estimate the eigenfunctions using a two-stage FPCA procedure. "
   ]
  },
  {
   "cell_type": "code",
   "execution_count": null,
   "metadata": {},
   "outputs": [
    {
     "ename": "",
     "evalue": "",
     "output_type": "error",
     "traceback": [
      "\u001b[1;31mFailed to start the Kernel. \n",
      "\u001b[1;31mActivating extension 'ms-python.python' failed: TelemetrySender.sendEventData must be a function. \n",
      "\u001b[1;31mView Jupyter <a href='command:jupyter.viewOutput'>log</a> for further details."
     ]
    }
   ],
   "source": [
    "Kprime = 3 \n",
    "N_eigen = (50, 100, 200)\n",
    "EigenApprox = np.zeros((len(N_eigen), 3, Nreps))\n",
    "for ni, Ntrain in enumerate(N_eigen):\n",
    "    for rep in range(Nreps):\n",
    "        Y = np.zeros((n1,n2,Ntrain+Ntest))\n",
    "        Psi_coefs = np.random.multivariate_normal(np.zeros(m1*m2), np.diag(lambdas), size=Ntrain+Ntest)\n",
    "        for i in range(Ntrain+Ntest): \n",
    "            Y[:,:,i] = functools.reduce(operator.add,map(lambda k: Psi_coefs[i,k]*Psi_tensor[k,:,:], np.arange(m1*m2)))\n",
    "        Y_train_N = Y[:,:,0:Ntrain]\n",
    "        Y_test = Y[:,:,Ntrain:]\n",
    "        \n",
    "        Zeta_tensor, Clst, Smat_scaled = kompb(Y_train_N, 60)\n",
    "\n",
    "        Eta_tensor = two_stage_fpca(Zeta_tensor, Clst, Smat_scaled, 60)\n",
    "        for kk in range(Kprime):\n",
    "            inner_product = np.abs(tl.tenalg.inner(Psi_tensor[kk,:,:], Eta_tensor[kk,:,:])/(tl.norm(Psi_tensor[kk,:,:])*tl.norm(Eta_tensor[kk,:,:])))\n",
    "            EigenApprox[ni, kk, rep] = inner_product\n",
    "            #mse_kk_pos = mean_squared_error(Psi_tensor[kk,:,:]/np.linalg.norm(Psi_tensor[kk,:,:]),\n",
    "            #                                Eta_tensor[kk,:,:]/np.linalg.norm(Eta_tensor[kk,:,:]))\n",
    "            #mse_kk_neg = mean_squared_error(-Psi_tensor[kk,:,:]/np.linalg.norm(Psi_tensor[kk,:,:]),\n",
    "            #                                Eta_tensor[kk,:,:]/np.linalg.norm(Eta_tensor[kk,:,:]))\n",
    "            #EigenApprox[ni, kk, rep] = np.min((mse_kk_pos,mse_kk_neg)) ## remove sign ambiguity of eigenfunctions \n",
    "    print(\"Finished training sample size: %s\"%Ntrain)"
   ]
  },
  {
   "cell_type": "markdown",
   "metadata": {},
   "source": [
    "# Visualizations."
   ]
  },
  {
   "cell_type": "markdown",
   "metadata": {},
   "source": [
    "Test set representation MSE."
   ]
  },
  {
   "cell_type": "code",
   "execution_count": null,
   "metadata": {},
   "outputs": [
    {
     "ename": "",
     "evalue": "",
     "output_type": "error",
     "traceback": [
      "\u001b[1;31mFailed to start the Kernel. \n",
      "\u001b[1;31mActivating extension 'ms-python.python' failed: TelemetrySender.sendEventData must be a function. \n",
      "\u001b[1;31mView Jupyter <a href='command:jupyter.viewOutput'>log</a> for further details."
     ]
    }
   ],
   "source": [
    "sns.set(font_scale = 2)\n",
    "f, ax = plt.subplots(2,3,figsize=(15,15), sharey=True)\n",
    "csize = 0.0\n",
    "lwd = 4\n",
    "mksz = 10\n",
    "\n",
    "axs_indices = [(0,0),(0,1),(0,2),(1,0),(1,1),(1,2)]\n",
    "\n",
    "for ni, N in enumerate(Ns):\n",
    "    aix, aiy = axs_indices[ni]\n",
    "    ax_ni = ax[aix, aiy]\n",
    "    \n",
    "    df_mean = pd.DataFrame(np.mean(MSEs[ni,:,:,:], 1).T,index=[\"K-oMPB\",\"MFPCA\",\"Eigenfunctions\"], columns=Ranks)\n",
    "    df_sem = pd.DataFrame(sem(MSEs[ni,:,:,:], 1).T,index=[\"K-oMPB\",\"MFPCA\",\"Eigenfunctions\"], columns=Ranks)\n",
    "\n",
    "    ax_ni.errorbar(Ranks, df_mean.iloc[0].values, yerr=df_sem.iloc[0].values, fmt=\"or-\", capsize=csize,\n",
    "               linewidth=lwd, markersize=mksz, label=\"MARGARITA\")\n",
    "    ax_ni.errorbar(Ranks, df_mean.iloc[1].values, yerr=df_sem.iloc[1].values, fmt=\"*b:\", capsize=csize,\n",
    "                linewidth=lwd, markersize=mksz, label=\"MargFPCA\")\n",
    "    ax_ni.errorbar(Ranks, df_mean.iloc[2].values, yerr=df_sem.iloc[2].values, fmt=\"+k-\", capsize=csize,\n",
    "                linewidth=lwd, markersize=mksz, label=\"True Eigenfunctions\")\n",
    "    if aiy == 0:\n",
    "        ax_ni.set_ylabel(\"MISE\")\n",
    "        \n",
    "    ax_ni.set_xlabel(\"K\")\n",
    "    ax_ni.set_title(r'$N_{train}$ = %s'%N)\n",
    "    #ax_ni.set_yscale(\"log\")\n",
    "\n",
    "plt.legend([\"MARGARITA\", \"MargFPCA\", \"Eigenfunctions\"], loc=\"best\", fontsize=20)\n",
    "f.tight_layout()\n",
    "#plt.savefig(\"figures/MARGARITA_vs_MargFPCA_extended.pdf\", bbox_inches=\"tight\")"
   ]
  },
  {
   "cell_type": "markdown",
   "metadata": {},
   "source": [
    "Pared down image for main text. "
   ]
  },
  {
   "cell_type": "code",
   "execution_count": null,
   "metadata": {},
   "outputs": [
    {
     "ename": "",
     "evalue": "",
     "output_type": "error",
     "traceback": [
      "\u001b[1;31mFailed to start the Kernel. \n",
      "\u001b[1;31mActivating extension 'ms-python.python' failed: TelemetrySender.sendEventData must be a function. \n",
      "\u001b[1;31mView Jupyter <a href='command:jupyter.viewOutput'>log</a> for further details."
     ]
    }
   ],
   "source": [
    "sns.set(font_scale = 2)\n",
    "f, ax = plt.subplots(1,2,figsize=(15,10), sharey=True)\n",
    "csize = 0.0\n",
    "lwd = 4\n",
    "mksz = 10\n",
    "    \n",
    "df_mean_1 = pd.DataFrame(np.mean(MSEs[1,:,:,:], 1).T,index=[\"K-oMPB\",\"MFPCA\",\"Eigenfunctions\"], columns=Ranks)\n",
    "df_sem_1 = pd.DataFrame(sem(MSEs[1,:,:,:], 1).T,index=[\"K-oMPB\",\"MFPCA\",\"Eigenfunctions\"], columns=Ranks)\n",
    "\n",
    "df_mean_2 = pd.DataFrame(np.mean(MSEs[-1,:,:,:], 1).T,index=[\"K-oMPB\",\"MFPCA\",\"Eigenfunctions\"], columns=Ranks)\n",
    "df_sem_2 = pd.DataFrame(sem(MSEs[-1,:,:,:], 1).T,index=[\"K-oMPB\",\"MFPCA\",\"Eigenfunctions\"], columns=Ranks)\n",
    "\n",
    "ax[0].errorbar(Ranks, df_mean_1.iloc[0].values, yerr=df_sem_1.iloc[0].values, fmt=\"or--\", capsize=csize,\n",
    "           linewidth=lwd, markersize=mksz, label=\"MARGARITA\")\n",
    "ax[0].errorbar(Ranks, df_mean_1.iloc[1].values, yerr=df_sem_1.iloc[1].values, fmt=\"*b-\", capsize=csize,\n",
    "            linewidth=lwd, markersize=mksz, label=\"MargFPCA\")\n",
    "ax[0].errorbar(Ranks, df_mean_1.iloc[2].values, yerr=df_sem_1.iloc[2].values, fmt=\"+g--\", capsize=csize,\n",
    "            linewidth=lwd, markersize=mksz, label=\"True Eigenfunctions\")\n",
    "\n",
    "ax[1].errorbar(Ranks, df_mean_2.iloc[0].values, yerr=df_sem_2.iloc[0].values, fmt=\"or--\", capsize=csize,\n",
    "           linewidth=lwd, markersize=mksz, label=\"MARGARITA\")\n",
    "ax[1].errorbar(Ranks, df_mean_2.iloc[1].values, yerr=df_sem_2.iloc[1].values, fmt=\"*b-\", capsize=csize,\n",
    "            linewidth=lwd, markersize=mksz, label=\"MargFPCA\")\n",
    "ax[1].errorbar(Ranks, df_mean_2.iloc[2].values, yerr=df_sem_2.iloc[2].values, fmt=\"+g--\", capsize=csize,\n",
    "            linewidth=lwd, markersize=mksz, label=\"True Eigenfunctions\")\n",
    "\n",
    "ax[0].set_xlabel(\"K\")\n",
    "ax[0].set_title(r'$N_{train}$ = 10')\n",
    "\n",
    "ax[1].set_xlabel(\"K\")\n",
    "ax[1].set_title(r'$N_{train}$ = 100')\n",
    "\n",
    "ax[0].set_ylabel(\"MISE\")\n",
    "\n",
    "plt.legend([\"MARGARITA\", \"MargFPCA\", \"Eigenfunctions\"], loc=\"best\", fontsize=20)\n",
    "f.tight_layout()\n",
    "#plt.savefig(\"figures/MARGARITA_vs_MargFPCA.pdf\", bbox_inches=\"tight\")"
   ]
  },
  {
   "cell_type": "code",
   "execution_count": null,
   "metadata": {},
   "outputs": [
    {
     "ename": "",
     "evalue": "",
     "output_type": "error",
     "traceback": [
      "\u001b[1;31mFailed to start the Kernel. \n",
      "\u001b[1;31mActivating extension 'ms-python.python' failed: TelemetrySender.sendEventData must be a function. \n",
      "\u001b[1;31mView Jupyter <a href='command:jupyter.viewOutput'>log</a> for further details."
     ]
    }
   ],
   "source": [
    "sns.set(font_scale = 2)\n",
    "f, ax = plt.subplots(1,1,figsize=(10,10), sharey=True)\n",
    "csize = 0.0\n",
    "lwd = 4\n",
    "mksz = 10\n",
    "    \n",
    "df_mean_1 = pd.DataFrame(np.mean(MSEs[1,:,:,:], 1).T,index=[\"K-oMPB\",\"MFPCA\",\"Eigenfunctions\"], columns=Ranks)\n",
    "df_sem_1 = pd.DataFrame(sem(MSEs[1,:,:,:], 1).T,index=[\"K-oMPB\",\"MFPCA\",\"Eigenfunctions\"], columns=Ranks)\n",
    "\n",
    "df_mean_2 = pd.DataFrame(np.mean(MSEs[-1,:,:,:], 1).T,index=[\"K-oMPB\",\"MFPCA\",\"Eigenfunctions\"], columns=Ranks)\n",
    "df_sem_2 = pd.DataFrame(sem(MSEs[-1,:,:,:], 1).T,index=[\"K-oMPB\",\"MFPCA\",\"Eigenfunctions\"], columns=Ranks)\n",
    "\n",
    "ax.errorbar(Ranks, df_mean_1.iloc[0].values, yerr=df_sem_1.iloc[0].values, fmt=\"or:\", capsize=csize,\n",
    "           linewidth=lwd, markersize=mksz, label=\"MARGARITA-10\")\n",
    "ax.errorbar(Ranks, df_mean_1.iloc[1].values, yerr=df_sem_1.iloc[1].values, fmt=\"*b:\", capsize=csize,\n",
    "            linewidth=lwd, markersize=mksz, label=\"MargFPCA-10\")\n",
    "\n",
    "ax.errorbar(Ranks, df_mean_2.iloc[0].values, yerr=df_sem_2.iloc[0].values, fmt=\"or-\", capsize=csize,\n",
    "           linewidth=lwd, markersize=mksz, label=\"MARGARITA-100\")\n",
    "ax.errorbar(Ranks, df_mean_2.iloc[1].values, yerr=df_sem_2.iloc[1].values, fmt=\"*b-\", capsize=csize,\n",
    "            linewidth=lwd, markersize=mksz, label=\"MargFPCA-100\")\n",
    "ax.errorbar(Ranks, df_mean_2.iloc[2].values, yerr=df_sem_2.iloc[2].values, fmt=\"+k-\", capsize=csize,\n",
    "            linewidth=lwd, markersize=mksz, label=\"True Eigenfunctions\")\n",
    "\n",
    "ax.set_xlabel(\"K\")\n",
    "\n",
    "ax.set_ylabel(\"MISE\")\n",
    "\n",
    "plt.legend([\"MARGARITA-10\", \"MargFPCA-10\", \"MARGARITA-100\", \"MargFPCA-100\", \"Eigenfunctions\"], loc=\"best\", fontsize=20)\n",
    "f.tight_layout()\n",
    "#plt.savefig(\"figures/MARGARITA_vs_MargFPCA.pdf\", bbox_inches=\"tight\")"
   ]
  },
  {
   "cell_type": "code",
   "execution_count": null,
   "metadata": {},
   "outputs": [
    {
     "ename": "",
     "evalue": "",
     "output_type": "error",
     "traceback": [
      "\u001b[1;31mFailed to start the Kernel. \n",
      "\u001b[1;31mActivating extension 'ms-python.python' failed: TelemetrySender.sendEventData must be a function. \n",
      "\u001b[1;31mView Jupyter <a href='command:jupyter.viewOutput'>log</a> for further details."
     ]
    }
   ],
   "source": [
    "df_mean_10 = pd.DataFrame(np.mean(MSEs[1,:,:,:2], 1),columns=[\"K-oMPB_10\",\"MFPCA_10\"], index=Ranks)\n",
    "df_mean_20 = pd.DataFrame(np.mean(MSEs[3,:,:,:2], 1),columns=[\"K-oMPB_20\",\"MFPCA_20\"], index=Ranks)\n",
    "df_mean_50 = pd.DataFrame(np.mean(MSEs[4,:,:,:2], 1),columns=[\"K-oMPB_50\",\"MFPCA_50\"], index=Ranks)\n",
    "df_mean_100 = pd.DataFrame(np.mean(MSEs[5,:,:,:2], 1),columns=[\"K-oMPB_100\",\"MFPCA_100\"], index=Ranks)\n",
    "\n",
    "df_sem_10 = pd.DataFrame(sem(MSEs[1,:,:,:2], 1).T,index=[\"K-oMPB_10\",\"MFPCA_10\"], columns=Ranks)\n",
    "df_sem_20 = pd.DataFrame(sem(MSEs[3,:,:,:2], 1).T,index=[\"K-oMPB_20\",\"MFPCA_20\"], columns=Ranks)\n",
    "df_sem_50 = pd.DataFrame(sem(MSEs[4,:,:,:2], 1).T,index=[\"K-oMPB_50\",\"MFPCA_50\"], columns=Ranks)\n",
    "df_sem_100 = pd.DataFrame(sem(MSEs[5,:,:,:2], 1).T,index=[\"K-oMPB_100\",\"MFPCA_100\"], columns=Ranks)\n",
    "\n",
    "df_final = df_mean_10.merge(df_mean_20, how='inner', left_index=True, right_index=True).merge(df_mean_50,  how='inner', \n",
    "                                                                                   left_index=True, \n",
    "                                                                                   right_index=True).merge(df_mean_100,\n",
    "                                                                                                         how='inner', \n",
    "                                                                                                           left_index=True, \n",
    "                                                                                                           right_index=True)\n",
    "df_final = df_final[[\"K-oMPB_10\",\"K-oMPB_20\",\"K-oMPB_50\",\"K-oMPB_100\",\"MFPCA_10\",\"MFPCA_20\",\"MFPCA_50\",\"MFPCA_100\"]]\n",
    "df_final = df_final.iloc[1:]\n",
    "print(df_final.round(4).to_latex())"
   ]
  },
  {
   "cell_type": "markdown",
   "metadata": {},
   "source": [
    "Create table of MISE as a function of $N_{train}$ for the first 3 eigenfunctions."
   ]
  },
  {
   "cell_type": "code",
   "execution_count": null,
   "metadata": {},
   "outputs": [
    {
     "ename": "",
     "evalue": "",
     "output_type": "error",
     "traceback": [
      "\u001b[1;31mFailed to start the Kernel. \n",
      "\u001b[1;31mActivating extension 'ms-python.python' failed: TelemetrySender.sendEventData must be a function. \n",
      "\u001b[1;31mView Jupyter <a href='command:jupyter.viewOutput'>log</a> for further details."
     ]
    }
   ],
   "source": [
    "Avg_MISE = pd.DataFrame(np.mean(EigenApprox,2).T, columns=N_eigen, index=[\"EF-1\",\"EF-2\",\"EF-3\"])\n",
    "SE_MISE = pd.DataFrame(sem(EigenApprox,2).T, columns=N_eigen, index=[\"EF-1\",\"EF-2\",\"EF-3\"])"
   ]
  },
  {
   "cell_type": "code",
   "execution_count": null,
   "metadata": {},
   "outputs": [
    {
     "ename": "",
     "evalue": "",
     "output_type": "error",
     "traceback": [
      "\u001b[1;31mFailed to start the Kernel. \n",
      "\u001b[1;31mActivating extension 'ms-python.python' failed: TelemetrySender.sendEventData must be a function. \n",
      "\u001b[1;31mView Jupyter <a href='command:jupyter.viewOutput'>log</a> for further details."
     ]
    }
   ],
   "source": [
    "print(SE_MISE.round(4).to_latex())"
   ]
  },
  {
   "cell_type": "markdown",
   "metadata": {},
   "source": [
    "Plot the first few eigenfunctions and their estimates using either method."
   ]
  },
  {
   "cell_type": "code",
   "execution_count": null,
   "metadata": {},
   "outputs": [
    {
     "ename": "",
     "evalue": "",
     "output_type": "error",
     "traceback": [
      "\u001b[1;31mFailed to start the Kernel. \n",
      "\u001b[1;31mActivating extension 'ms-python.python' failed: TelemetrySender.sendEventData must be a function. \n",
      "\u001b[1;31mView Jupyter <a href='command:jupyter.viewOutput'>log</a> for further details."
     ]
    }
   ],
   "source": [
    "sns.reset_orig()\n",
    "\n",
    "fig = plt.figure(figsize=(10, 15))\n",
    "\n",
    "XX1, XX2 = np.meshgrid(xgrids[0], xgrids[1])\n",
    "\n",
    "ax2 = fig.add_subplot(3,2,1,projection='3d')\n",
    "surf2 = ax2.plot_surface(XX1, XX2, -Eta_tensor[0,:,:], cmap=cm.coolwarm,\n",
    "                       linewidth=0, antialiased=False)\n",
    "ax2.zaxis.set_ticklabels([])\n",
    "ax2.set_title(r'$\\hat{\\psi}_1$', fontsize=32) \n",
    "\n",
    "ax3 = fig.add_subplot(3,2,2,projection='3d')\n",
    "surf3 = ax3.plot_surface(XX1, XX2, Psi_tensor[0,:,:], cmap=cm.coolwarm,\n",
    "                       linewidth=0, antialiased=False)\n",
    "ax3.zaxis.set_ticklabels([])\n",
    "ax3.set_title(r'$\\psi_1$', fontsize=32) \n",
    "\n",
    "\n",
    "\n",
    "ax5 = fig.add_subplot(3,2,3,projection='3d')\n",
    "surf5 = ax5.plot_surface(XX1, XX2, Eta_tensor[1,:,:], cmap=cm.coolwarm,\n",
    "                       linewidth=0, antialiased=False)\n",
    "ax5.set_title(r'$\\hat{\\psi}_2$', fontsize=32) \n",
    "ax5.zaxis.set_ticklabels([])\n",
    "\n",
    "ax6 = fig.add_subplot(3,2,4,projection='3d')\n",
    "surf6 = ax6.plot_surface(XX1, XX2, Psi_tensor[1,:,:], cmap=cm.coolwarm,\n",
    "                       linewidth=0, antialiased=False)\n",
    "ax6.zaxis.set_ticklabels([])\n",
    "ax6.set_title(r'$\\psi_2$', fontsize=32) \n",
    "\n",
    "ax8 = fig.add_subplot(3,2,5,projection='3d')\n",
    "surf8 = ax8.plot_surface(XX1, XX2, Eta_tensor[2,:,:], cmap=cm.coolwarm,\n",
    "                       linewidth=0, antialiased=False)\n",
    "ax8.set_title(r'$\\hat{\\psi}_3$', fontsize=32) \n",
    "ax8.zaxis.set_ticklabels([])\n",
    "\n",
    "ax9 = fig.add_subplot(3,2,6,projection='3d')\n",
    "surf9 = ax9.plot_surface(XX1, XX2, Psi_tensor[2,:,:], cmap=cm.coolwarm,\n",
    "                       linewidth=0, antialiased=False)\n",
    "ax9.zaxis.set_ticklabels([])\n",
    "ax9.set_title(r'$\\psi_3$', fontsize=32) \n",
    "\n",
    "#plt.savefig(\"figures/eigenfunction_estimation.pdf\",bbox_inches=\"tight\")\n",
    "\n",
    "\"\"\"\n",
    "ax5 = fig.add_subplot(3,2,3,projection='3d')\n",
    "surf5 = ax5.plot_surface(XX1, XX2, Eta_tensor[1,:,:], cmap=cm.coolwarm,\n",
    "                       linewidth=0, antialiased=False)\n",
    "ax5.zaxis.set_ticklabels([])\n",
    "ax5.set_zlabel('k = 2', fontsize=28)\n",
    "\n",
    "\n",
    "ax6 = fig.add_subplot(3,2,4,projection='3d')\n",
    "surf6 = ax6.plot_surface(XX1, XX2, Psi_tensor[1,:,:], cmap=cm.coolwarm,\n",
    "                       linewidth=0, antialiased=False)\n",
    "ax6.zaxis.set_ticklabels([])\n",
    "\n",
    "ax8 = fig.add_subplot(3,2,5,projection='3d')\n",
    "surf8 = ax8.plot_surface(XX1, XX2, Eta_tensor[2,:,:], cmap=cm.coolwarm,\n",
    "                       linewidth=0, antialiased=False)\n",
    "ax8.zaxis.set_ticklabels([])\n",
    "ax8.set_zlabel('k = 3', fontsize=28)\n",
    "\n",
    "\n",
    "ax9 = fig.add_subplot(3,2,6,projection='3d')\n",
    "surf9 = ax9.plot_surface(XX1, XX2, Psi_tensor[2,:,:], cmap=cm.coolwarm,\n",
    "                       linewidth=0, antialiased=False)\n",
    "ax9.zaxis.set_ticklabels([])\n",
    "\n",
    "fig.tight_layout()\n",
    "\"\"\""
   ]
  },
  {
   "cell_type": "markdown",
   "metadata": {},
   "source": [
    "Note, due to sign unidentiabilitiy, manually changed in accordance w/ true eigenfunctions."
   ]
  },
  {
   "cell_type": "markdown",
   "metadata": {},
   "source": [
    "# Bibliography"
   ]
  },
  {
   "cell_type": "markdown",
   "metadata": {},
   "source": [
    "[1] Consagra, Venkataraman, Qiu. \"Efficient Multidimensional Functional Data Analysis Using Marginal Product Basis Systems\".  arXiv:2107.14728. 2021.\n",
    "\n",
    "[2] Chen, Delicado, Muller. \"Modelling function-valued stochastic processes, with applications to fertility dynamics.\" JRSSB, 2017. "
   ]
  }
 ],
 "metadata": {
  "kernelspec": {
   "display_name": "Python 3.9.14 64-bit",
   "language": "python",
   "name": "python3"
  },
  "language_info": {
   "codemirror_mode": {
    "name": "ipython",
    "version": 3
   },
   "file_extension": ".py",
   "mimetype": "text/x-python",
   "name": "python",
   "nbconvert_exporter": "python",
   "pygments_lexer": "ipython3",
   "version": "3.9.14 (main, Sep  6 2022, 23:16:16) \n[Clang 13.1.6 (clang-1316.0.21.2.5)]"
  },
  "vscode": {
   "interpreter": {
    "hash": "a665b5d41d17b532ea9890333293a1b812fa0b73c9c25c950b3cedf1bebd0438"
   }
  }
 },
 "nbformat": 4,
 "nbformat_minor": 4
}
